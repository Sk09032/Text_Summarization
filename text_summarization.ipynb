{
 "cells": [
  {
   "cell_type": "code",
   "execution_count": 126,
   "metadata": {},
   "outputs": [
    {
     "name": "stdout",
     "output_type": "stream",
     "text": [
      "Machine Learning is a hastily growing area, and Natural Language Processing (NLP) is one of its most exciting and promising branches. NLP makes a specialty of permitting computer systems to recognize, interpret, and generate human language, and it performs an essential function in various programs like sentiment analysis, chatbots, language translation, and extra.\n"
     ]
    }
   ],
   "source": [
    "text=input(\"Enter text to summarize\")\n",
    "print(text)"
   ]
  },
  {
   "cell_type": "code",
   "execution_count": 159,
   "metadata": {},
   "outputs": [],
   "source": [
    "import spacy\n",
    "nlp = spacy.load(\"en_core_web_sm\")\n",
    "# User Text\n",
    "doc = nlp(text)"
   ]
  },
  {
   "cell_type": "code",
   "execution_count": 160,
   "metadata": {},
   "outputs": [],
   "source": [
    "sentence_tokens = [sent for sent in doc.sents]"
   ]
  },
  {
   "cell_type": "code",
   "execution_count": 161,
   "metadata": {},
   "outputs": [],
   "source": [
    "word_tokens=[i for i in doc]"
   ]
  },
  {
   "cell_type": "code",
   "execution_count": 162,
   "metadata": {},
   "outputs": [
    {
     "name": "stdout",
     "output_type": "stream",
     "text": [
      "['whole', 'might', 'their', 'everywhere', 'only', 'us', 'neither', 'whereby', 'go', 'few', 'twelve', 'quite', 'none', 'beforehand', 'cannot', 'nobody', 'in', 'anyway', 'thereby', 'well', 'why', '’ll', 'of', 'does', 'are', 'third', 'hereafter', 'meanwhile', 'would', 'did', 'by', 'against', '‘ve', \"'s\", 'than', 'done', 'back', 'really', 'regarding', 'there', 'empty', 'unless', 'further', 'whose', 'hence', 'no', 'but', 'someone', 'hereupon', 'he', 'anyone', 'too', 'they', 'except', 'others', 'herself', 'already', '’d', 'both', 'about', 'out', 'throughout', 'seems', 'namely', 'wherein', 'will', 'never', 'rather', 'almost', 'anywhere', 'may', 'take', 'alone', 'could', 'same', 'therefore', 'next', 'up', 'one', 'below', 'noone', 'it', 'due', 'itself', 'just', 'among', 'myself', 'whence', 'together', 'something', 'over', 'still', 'though', 'across', 'used', 'whenever', 'off', 'else', 'those', 'ever', 'even', 'not', 'thru', 'whatever', 'once', 'hereby', 'beside', 'toward', 'besides', 'my', 'after', 'hers', 'can', 'do', 'who', 'move', 'amount', 'thereafter', 'such', 'an', 'must', 'ourselves', 'she', 'much', 'herein', 'have', 'himself', 'very', 'while', 'front', 'whereas', 'keep', 'everyone', 'another', 'since', 'serious', 'become', 'moreover', 'call', 'without', 'anyhow', '‘s', 'anything', \"'m\", '’s', 'own', 'were', 'as', 'behind', 'its', 'her', '‘re', 'yours', 'ca', 'yourselves', 'thereupon', 'n‘t', 'either', '’ve', 'above', 'most', 'every', 'becoming', 'please', 'mine', 'themselves', 'other', 'through', 'however', 'hundred', \"'ll\", 'thus', 'twenty', 'wherever', 'sixty', 'less', 'then', 'again', 'fifteen', 'six', 'get', 'all', 'four', 'became', 'which', 'name', 'we', 'bottom', 'otherwise', 'part', 'elsewhere', 'eleven', 'several', 'that', 'onto', 'to', 'sometime', \"'re\", 'within', 'always', 'been', 'is', 'least', 'give', 'nowhere', 'seemed', 'around', 'formerly', 'his', 'any', 'has', 'therein', 'full', 'see', 'on', 'although', 'made', 'this', 'where', 'along', 'show', 'forty', 'latter', 'i', 'upon', 'was', 'with', 'eight', 'more', '‘d', 'using', 'last', 'via', 'your', 'yet', 'nevertheless', 'five', 'be', 'me', 'somewhere', 'how', 'each', 'somehow', 'whither', 'side', 'him', 'top', 'fifty', 'when', 'ours', 'beyond', \"'ve\", 'for', 'many', 'amongst', 'whereupon', 'doing', 'everything', 'per', 'becomes', 'a', 'put', 'whom', \"n't\", 'whether', 'what', 'and', 'into', 'enough', 'am', 'mostly', '‘m', 'three', 'or', 'at', 'should', 'from', 'thence', 'our', \"'d\", 'nor', 'seeming', 'until', 'nothing', 'them', 'being', 'former', 'indeed', 'afterwards', 'make', 'some', 'if', 'had', 'you', 'under', 'yourself', 'now', 'whoever', 'first', 'nine', 're', 'the', 'sometimes', '’re', 'also', 'perhaps', 'whereafter', 'two', '‘ll', 'during', 'so', 'ten', 'down', 'before', 'seem', 'these', 'various', 'latterly', 'n’t', 'often', 'towards', 'say', '’m', 'between', 'here', 'because']\n"
     ]
    }
   ],
   "source": [
    "from spacy.lang.en.stop_words import STOP_WORDS\n",
    "list_of_stopwords=list(STOP_WORDS)\n",
    "print(list_of_stopwords)"
   ]
  },
  {
   "cell_type": "code",
   "execution_count": 163,
   "metadata": {},
   "outputs": [
    {
     "data": {
      "text/plain": [
       "'\\n'"
      ]
     },
     "execution_count": 163,
     "metadata": {},
     "output_type": "execute_result"
    }
   ],
   "source": [
    "punctuation=\"\"\n",
    "punctuation = punctuation + '\\n'\n",
    "punctuation"
   ]
  },
  {
   "cell_type": "code",
   "execution_count": 164,
   "metadata": {},
   "outputs": [
    {
     "name": "stdout",
     "output_type": "stream",
     "text": [
      "{'Machine': 1, 'Learning': 1, 'hastily': 1, 'growing': 1, 'area': 1, ',': 7, 'Natural': 1, 'Language': 1, 'Processing': 1, '(': 1, 'NLP': 2, ')': 1, 'exciting': 1, 'promising': 1, 'branches': 1, '.': 2, 'makes': 1, 'specialty': 1, 'permitting': 1, 'computer': 1, 'systems': 1, 'recognize': 1, 'interpret': 1, 'generate': 1, 'human': 1, 'language': 2, 'performs': 1, 'essential': 1, 'function': 1, 'programs': 1, 'like': 1, 'sentiment': 1, 'analysis': 1, 'chatbots': 1, 'translation': 1, 'extra': 1}\n"
     ]
    }
   ],
   "source": [
    "word_freq={}\n",
    "for word in doc:\n",
    "    if word.text.lower() not in list_of_stopwords:\n",
    "        if word.text.lower() not in punctuation:\n",
    "            if word.text not in word_freq.keys():\n",
    "                word_freq[word.text]=1\n",
    "            else:\n",
    "                word_freq[word.text]+=1\n",
    "print(word_freq)"
   ]
  },
  {
   "cell_type": "code",
   "execution_count": 165,
   "metadata": {},
   "outputs": [
    {
     "name": "stdout",
     "output_type": "stream",
     "text": [
      "7\n"
     ]
    }
   ],
   "source": [
    "max_freq=max(word_freq.values())\n",
    "print(max_freq)"
   ]
  },
  {
   "cell_type": "code",
   "execution_count": 166,
   "metadata": {},
   "outputs": [],
   "source": [
    "for word in word_freq.keys():\n",
    "    word_freq[word]=word_freq[word]/max_freq"
   ]
  },
  {
   "cell_type": "code",
   "execution_count": 167,
   "metadata": {},
   "outputs": [
    {
     "name": "stdout",
     "output_type": "stream",
     "text": [
      "{'Machine': 0.14285714285714285, 'Learning': 0.14285714285714285, 'hastily': 0.14285714285714285, 'growing': 0.14285714285714285, 'area': 0.14285714285714285, ',': 1.0, 'Natural': 0.14285714285714285, 'Language': 0.14285714285714285, 'Processing': 0.14285714285714285, '(': 0.14285714285714285, 'NLP': 0.2857142857142857, ')': 0.14285714285714285, 'exciting': 0.14285714285714285, 'promising': 0.14285714285714285, 'branches': 0.14285714285714285, '.': 0.2857142857142857, 'makes': 0.14285714285714285, 'specialty': 0.14285714285714285, 'permitting': 0.14285714285714285, 'computer': 0.14285714285714285, 'systems': 0.14285714285714285, 'recognize': 0.14285714285714285, 'interpret': 0.14285714285714285, 'generate': 0.14285714285714285, 'human': 0.14285714285714285, 'language': 0.2857142857142857, 'performs': 0.14285714285714285, 'essential': 0.14285714285714285, 'function': 0.14285714285714285, 'programs': 0.14285714285714285, 'like': 0.14285714285714285, 'sentiment': 0.14285714285714285, 'analysis': 0.14285714285714285, 'chatbots': 0.14285714285714285, 'translation': 0.14285714285714285, 'extra': 0.14285714285714285}\n"
     ]
    }
   ],
   "source": [
    "print(word_freq)"
   ]
  },
  {
   "cell_type": "code",
   "execution_count": 168,
   "metadata": {},
   "outputs": [],
   "source": [
    "sent_score={}"
   ]
  },
  {
   "cell_type": "code",
   "execution_count": 169,
   "metadata": {},
   "outputs": [],
   "source": [
    "for sent in sentence_tokens:\n",
    "    for word in sent:\n",
    "        if word.text in word_freq.keys():\n",
    "            if sent not in sent_score.keys():\n",
    "                sent_score[sent]=word_freq[word.text]\n",
    "            else:\n",
    "                sent_score[sent]+=word_freq[word.text]"
   ]
  },
  {
   "cell_type": "code",
   "execution_count": 170,
   "metadata": {},
   "outputs": [
    {
     "name": "stdout",
     "output_type": "stream",
     "text": [
      "{Machine Learning is a hastily growing area, and Natural Language Processing (NLP) is one of its most exciting and promising branches.: 3.428571428571428, NLP makes a specialty of permitting computer systems to recognize, interpret, and generate human language, and it performs an essential function in various programs like sentiment analysis, chatbots, language translation, and extra.: 9.85714285714286}\n"
     ]
    }
   ],
   "source": [
    "print(sent_score)"
   ]
  },
  {
   "cell_type": "code",
   "execution_count": 171,
   "metadata": {},
   "outputs": [],
   "source": [
    "from heapq import nlargest"
   ]
  },
  {
   "cell_type": "code",
   "execution_count": 172,
   "metadata": {},
   "outputs": [],
   "source": [
    "select_length = int(len(sentence_tokens)*0.5)\n",
    "select_length\n",
    "summary = nlargest(select_length, sent_score, key = sent_score.get)"
   ]
  },
  {
   "cell_type": "code",
   "execution_count": 173,
   "metadata": {},
   "outputs": [],
   "source": [
    "final_summary = [word.text for word in summary]\n",
    "summary = ' '.join(final_summary)"
   ]
  },
  {
   "cell_type": "code",
   "execution_count": 174,
   "metadata": {},
   "outputs": [
    {
     "data": {
      "text/plain": [
       "'NLP makes a specialty of permitting computer systems to recognize, interpret, and generate human language, and it performs an essential function in various programs like sentiment analysis, chatbots, language translation, and extra.'"
      ]
     },
     "execution_count": 174,
     "metadata": {},
     "output_type": "execute_result"
    }
   ],
   "source": [
    "summary"
   ]
  }
 ],
 "metadata": {
  "kernelspec": {
   "display_name": "venv",
   "language": "python",
   "name": "python3"
  },
  "language_info": {
   "codemirror_mode": {
    "name": "ipython",
    "version": 3
   },
   "file_extension": ".py",
   "mimetype": "text/x-python",
   "name": "python",
   "nbconvert_exporter": "python",
   "pygments_lexer": "ipython3",
   "version": "3.8.19"
  }
 },
 "nbformat": 4,
 "nbformat_minor": 2
}
